{
 "cells": [
  {
   "cell_type": "markdown",
   "id": "8c4c699e-db6d-404c-a41b-f24d4f9879cf",
   "metadata": {},
   "source": [
    "## Skorch RHC network classification example"
   ]
  },
  {
   "cell_type": "code",
   "execution_count": null,
   "id": "5b4942c4-d06d-4155-a658-2d73d60dc581",
   "metadata": {},
   "outputs": [],
   "source": [
    "import subprocess\n",
    "\n",
    "# Installation on Google Colab\n",
    "!git clone https://github.com/jlm429/pyperch\n",
    "from google.colab import drive\n",
    "drive.mount('/content/drive')\n",
    "import sys\n",
    "sys.path.append('/content/pyperch')\n",
    "\n",
    "try:\n",
    "    import google.colab\n",
    "    subprocess.run(['python', '-m', 'pip', 'install', 'skorch' , 'torch'])\n",
    "except ImportError:\n",
    "    pass"
   ]
  },
  {
   "cell_type": "code",
   "execution_count": null,
   "id": "6c489a9d-6e2c-42cb-bc8d-cd9a4bfdcaa8",
   "metadata": {},
   "outputs": [],
   "source": [
    "\n",
    "import numpy as np\n",
    "from sklearn.datasets import make_classification\n",
    "import torch\n",
    "from torch import nn\n",
    "from skorch import NeuralNetClassifier\n",
    "from skorch import NeuralNet\n",
    "from pyperch.neural.rhc_nn import RHCModule  \n",
    "from pyperch.utils.decorators import add_to\n",
    "from skorch.dataset import unpack_data\n",
    "import copy\n",
    "import matplotlib.pyplot as plt"
   ]
  },
  {
   "cell_type": "code",
   "execution_count": null,
   "id": "bdc25d7b-06e2-4d6b-81e4-24d66d19a46b",
   "metadata": {},
   "outputs": [],
   "source": [
    "X, y = make_classification(1000, 12, n_informative=10, random_state=0)\n",
    "X = X.astype(np.float32)\n",
    "y = y.astype(np.int64)"
   ]
  },
  {
   "cell_type": "code",
   "execution_count": null,
   "id": "359f8e1e-914f-4782-8eb8-fb0e54d371a6",
   "metadata": {},
   "outputs": [],
   "source": [
    "from skorch.callbacks import EpochScoring \n",
    "\n",
    "net = NeuralNetClassifier(\n",
    "    module=RHCModule,\n",
    "    module__input_dim=12,\n",
    "    module__output_dim=2,\n",
    "    module__hidden_units=20,\n",
    "    module__hidden_layers=1,\n",
    "    module__step_size=.05,\n",
    "    max_epochs=5000,\n",
    "    verbose=0,\n",
    "    callbacks=[EpochScoring(scoring='accuracy', name='train_acc', on_train=True),],\n",
    "    # Shuffle training data on each epoch\n",
    "    iterator_train__shuffle=True,\n",
    ")"
   ]
  },
  {
   "cell_type": "markdown",
   "id": "37bc3c56-562f-44d8-9ccc-141515a93037",
   "metadata": {},
   "source": [
    "## train_step_single override - add RHC training step and disable backprop "
   ]
  },
  {
   "cell_type": "code",
   "execution_count": null,
   "id": "9692c6c1-602f-44d0-b4e3-300485571b9c",
   "metadata": {},
   "outputs": [],
   "source": [
    "RHCModule.register_rhc_training_step()"
   ]
  },
  {
   "cell_type": "code",
   "execution_count": null,
   "id": "73103657-1058-41b7-bac3-38a2857f30a4",
   "metadata": {},
   "outputs": [],
   "source": [
    "# fit data\n",
    "net.fit(X, y)"
   ]
  },
  {
   "cell_type": "markdown",
   "id": "544b99df-0427-4d17-bb48-6d8253da4119",
   "metadata": {},
   "source": [
    "## Plot learning curves"
   ]
  },
  {
   "cell_type": "code",
   "execution_count": null,
   "id": "58f843cf-22f9-42ce-b77f-6171e44641d0",
   "metadata": {},
   "outputs": [],
   "source": [
    "# plot the iterative learning curve (loss)\n",
    "plt.plot(net.history[:, 'train_loss'], label='Train Loss', color='navy')\n",
    "plt.plot(net.history[:, 'valid_loss'], label='Validation Loss', color='lightcoral')\n",
    "plt.xlabel(\"Iteration\")\n",
    "plt.ylabel(\"Loss\")\n",
    "plt.title(\"Iterative Learning Curve (Loss)\")\n",
    "plt.grid(visible=True)\n",
    "plt.legend(frameon=False)"
   ]
  },
  {
   "cell_type": "code",
   "execution_count": null,
   "id": "532fe971-6e96-4882-8b92-6dc132535138",
   "metadata": {},
   "outputs": [],
   "source": [
    "# plot the iterative learning curve (accuracy)\n",
    "plt.plot(net.history[:, 'train_acc'], label='Train Acc', color='cornflowerblue')\n",
    "plt.plot(net.history[:, 'valid_acc'], label='Validation Acc', color='chartreuse')\n",
    "plt.xlabel(\"Iteration\")\n",
    "plt.ylabel(\"Accuracy\")\n",
    "plt.title(\"Iterative Learning Curve (Accuracy)\")\n",
    "plt.grid(visible=True)\n",
    "plt.legend(frameon=False)"
   ]
  },
  {
   "cell_type": "markdown",
   "id": "7e65916b-fd3f-41c1-9fc4-8f6bdae8d7f3",
   "metadata": {},
   "source": [
    "## Using sklearn learning curve with RO"
   ]
  },
  {
   "cell_type": "code",
   "execution_count": null,
   "id": "5d5c27b4-da07-4154-89e8-9caf08655335",
   "metadata": {},
   "outputs": [],
   "source": [
    "from sklearn.model_selection import learning_curve\n",
    "\n",
    "# Plot the learning curve\n",
    "train_sizes, train_scores, test_scores = learning_curve(\n",
    "    net, X, y, train_sizes=np.linspace(0.1, 1.0, 5), cv=3\n",
    ")\n",
    "\n",
    "train_scores_mean = train_scores.mean(axis=1)\n",
    "train_scores_std = train_scores.std(axis=1)\n",
    "test_scores_mean = test_scores.mean(axis=1)\n",
    "test_scores_std = test_scores.std(axis=1)\n",
    "plt.fill_between(train_sizes, train_scores_mean - train_scores_std,\n",
    "                     train_scores_mean + train_scores_std, alpha=0.1,\n",
    "                     color='cyan')\n",
    "plt.fill_between(train_sizes, test_scores_mean - test_scores_std,\n",
    "                     test_scores_mean + test_scores_std, alpha=0.1, color='darkorchid')\n",
    "plt.plot(train_sizes, train_scores_mean, label=\"Training score\", color='cyan')\n",
    "plt.plot(train_sizes, test_scores_mean, label=\"Test score\", color='darkorchid')\n",
    "plt.title(\"Learning Curve\")\n",
    "plt.xlabel(\"Training size\")\n",
    "plt.ylabel(\"Score\")\n",
    "plt.grid(visible=True)\n",
    "plt.legend(frameon=False)"
   ]
  },
  {
   "cell_type": "markdown",
   "id": "7ae664b3-a4c8-48b5-aa91-05c160e68a26",
   "metadata": {},
   "source": [
    "## Using sklearn pipeline with RO"
   ]
  },
  {
   "cell_type": "code",
   "execution_count": null,
   "id": "f1301a1b-8a82-4c68-9172-aebbfd6cec3d",
   "metadata": {},
   "outputs": [],
   "source": [
    "from sklearn.pipeline import Pipeline\n",
    "from sklearn.preprocessing import StandardScaler\n",
    "\n",
    "pipe = Pipeline([\n",
    "    ('scale', StandardScaler()),\n",
    "    ('net', net),\n",
    "])\n",
    "\n",
    "pipe.fit(X, y)\n",
    "y_proba = pipe.predict_proba(X)"
   ]
  },
  {
   "cell_type": "markdown",
   "id": "ca651d54-9883-49e4-9e93-82c1ec55f865",
   "metadata": {},
   "source": [
    "## Using sklearn grid search with RO"
   ]
  },
  {
   "cell_type": "code",
   "execution_count": null,
   "id": "88d0a8dc-4b2d-4d08-9cf6-3c02c69742a4",
   "metadata": {},
   "outputs": [],
   "source": [
    "from sklearn.model_selection import GridSearchCV\n",
    "\n",
    "# deactivate skorch-internal train-valid split and verbose logging\n",
    "net.set_params(train_split=False, verbose=0, )\n",
    "\n",
    "# module specific parameters need to begin with 'module__'\n",
    "default_params = {\n",
    "    'module__input_dim': [12],\n",
    "    'module__output_dim': [2],\n",
    "    'module__step_size': [0.1],\n",
    "}\n",
    "\n",
    "grid_search_params = {\n",
    "    'max_epochs': [10, 20],\n",
    "    'module__hidden_units': [10, 20],\n",
    "    'module__hidden_layers': [1, 2],\n",
    "    'module__activation': [nn.ReLU(), nn.Tanh()],\n",
    "    **default_params,\n",
    "}\n",
    "\n",
    "gs = GridSearchCV(net, grid_search_params, refit=False, cv=3, scoring='accuracy', verbose=2)\n",
    "\n",
    "gs.fit(X, y)\n",
    "print(\"best score: {:.3f}, best params: {}\".format(gs.best_score_, gs.best_params_))"
   ]
  },
  {
   "cell_type": "code",
   "execution_count": null,
   "id": "7c41d849-46d9-46fe-87fa-373b34a0bba8",
   "metadata": {},
   "outputs": [],
   "source": []
  }
 ],
 "metadata": {
  "kernelspec": {
   "display_name": "ml",
   "language": "python",
   "name": "python3"
  },
  "language_info": {
   "codemirror_mode": {
    "name": "ipython",
    "version": 3
   },
   "file_extension": ".py",
   "mimetype": "text/x-python",
   "name": "python",
   "nbconvert_exporter": "python",
   "pygments_lexer": "ipython3",
   "version": "3.11.7"
  }
 },
 "nbformat": 4,
 "nbformat_minor": 5
}
